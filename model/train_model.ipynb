{
 "cells": [
  {
   "cell_type": "code",
   "execution_count": 37,
   "metadata": {},
   "outputs": [],
   "source": [
    "# Import all the things we will need\n",
    "import datetime\n",
    "import tensorflow as tf\n",
    "import numpy as np\n",
    "from tensorflow import keras\n",
    "from tensorflow.keras import regularizers\n",
    "from tensorflow.keras.models import Sequential\n",
    "from tensorflow.keras.layers import Dense, Conv2D, Flatten, Dropout, MaxPooling2D\n",
    "from tensorflow.data import Dataset\n",
    "import matplotlib.pyplot as plt\n"
   ]
  },
  {
   "cell_type": "code",
   "execution_count": 38,
   "metadata": {},
   "outputs": [],
   "source": [
    "import os\n",
    "os.environ['TF_CPP_MIN_LOG_LEVEL'] = '1'"
   ]
  },
  {
   "cell_type": "code",
   "execution_count": 39,
   "metadata": {},
   "outputs": [],
   "source": [
    "# clear out any old logs\n",
    "!rm -rf ./logs/ "
   ]
  },
  {
   "cell_type": "code",
   "execution_count": 40,
   "metadata": {},
   "outputs": [],
   "source": [
    "signals = [\n",
    "    'ringtone',\n",
    "    'random',\n",
    "    '_background_noise_',\n",
    "]"
   ]
  },
  {
   "cell_type": "code",
   "execution_count": 41,
   "metadata": {},
   "outputs": [],
   "source": [
    "training_spectrogram = np.load('training_spectrogram.npz')\n",
    "validation_spectrogram = np.load('validation_spectrogram.npz')\n",
    "test_spectrogram = np.load('test_spectrogram.npz')\n"
   ]
  },
  {
   "cell_type": "code",
   "execution_count": 42,
   "metadata": {},
   "outputs": [],
   "source": [
    "# extract the data from the files\n",
    "X_train = training_spectrogram['X']\n",
    "Y_train_cats = training_spectrogram['Y']\n",
    "X_validate = validation_spectrogram['X']\n",
    "Y_validate_cats = validation_spectrogram['Y']\n",
    "X_test = test_spectrogram['X']\n",
    "Y_test_cats = test_spectrogram['Y']\n",
    "\n",
    "# get the width and height of the spectrogram \"image\"\n",
    "IMG_WIDTH=X_train[0].shape[0]\n",
    "IMG_HEIGHT=X_train[0].shape[1]"
   ]
  },
  {
   "cell_type": "code",
   "execution_count": 43,
   "metadata": {},
   "outputs": [
    {
     "data": {
      "text/plain": [
       "(array([ 73., 108.,   0.]),\n",
       " array([0., 1., 2., 3.]),\n",
       " <BarContainer object of 3 artists>)"
      ]
     },
     "execution_count": 43,
     "metadata": {},
     "output_type": "execute_result"
    },
    {
     "data": {
      "image/png": "[encoded data removed]",
      "text/plain": [
       "<Figure size 640x480 with 1 Axes>"
      ]
     },
     "metadata": {},
     "output_type": "display_data"
    }
   ],
   "source": [
    "# plot a distribution of the words\n",
    "plt.hist(Y_train_cats, bins=range(0,len(signals)+1), align='left')"
   ]
  },
  {
   "cell_type": "code",
   "execution_count": 44,
   "metadata": {},
   "outputs": [
    {
     "name": "stdout",
     "output_type": "stream",
     "text": [
      "[0 1] [ 73 108]\n"
     ]
    },
    {
     "data": {
      "text/plain": [
       "{'ringtone': 73, 'random': 108}"
      ]
     },
     "execution_count": 44,
     "metadata": {},
     "output_type": "execute_result"
    }
   ],
   "source": [
    "unique, counts = np.unique(Y_train_cats, return_counts=True)\n",
    "print(unique, counts)\n",
    "dict(zip([signals[i] for i in unique], counts))\n",
    "\n"
   ]
  },
  {
   "cell_type": "code",
   "execution_count": 45,
   "metadata": {},
   "outputs": [],
   "source": [
    "Y_train = [1 if y == signals.index('random') else 0 for y in Y_train_cats]\n",
    "Y_validate = [1 if y == signals.index('random') else 0 for y in Y_validate_cats]\n",
    "Y_test = [1 if y == signals.index('random') else 0 for y in Y_test_cats]"
   ]
  },
  {
   "cell_type": "code",
   "execution_count": 46,
   "metadata": {},
   "outputs": [
    {
     "data": {
      "text/plain": [
       "(array([ 73., 108.]), array([0., 1., 2.]), <BarContainer object of 2 artists>)"
      ]
     },
     "execution_count": 46,
     "metadata": {},
     "output_type": "execute_result"
    },
    {
     "data": {
      "image/png": "[encoded data removed]",
      "text/plain": [
       "<Figure size 640x480 with 1 Axes>"
      ]
     },
     "metadata": {},
     "output_type": "display_data"
    }
   ],
   "source": [
    "plt.hist(Y_train, bins=range(0,3), align='left')"
   ]
  },
  {
   "cell_type": "code",
   "execution_count": 47,
   "metadata": {},
   "outputs": [],
   "source": [
    "# create the datasets for training\n",
    "batch_size = 16\n",
    "\n",
    "train_dataset = Dataset.from_tensor_slices(\n",
    "    (X_train, Y_train)\n",
    ").repeat(\n",
    "    count=-1\n",
    ").shuffle(\n",
    "    len(X_train)\n",
    ").batch(\n",
    "    batch_size\n",
    ")\n",
    "\n",
    "validation_dataset = Dataset.from_tensor_slices((X_validate, Y_validate)).batch(X_validate.shape[0])\n",
    "\n",
    "test_dataset = Dataset.from_tensor_slices((X_test, Y_test)).batch(len(X_test))"
   ]
  },
  {
   "cell_type": "code",
   "execution_count": 48,
   "metadata": {},
   "outputs": [
    {
     "name": "stdout",
     "output_type": "stream",
     "text": [
      "Model: \"sequential_1\"\n",
      "_________________________________________________________________\n",
      " Layer (type)                Output Shape              Param #   \n",
      "=================================================================\n",
      " conv_layer1 (Conv2D)        (None, 99, 43, 4)         40        \n",
      "                                                                 \n",
      " max_pooling1 (MaxPooling2D  (None, 49, 21, 4)         0         \n",
      " )                                                               \n",
      "                                                                 \n",
      " conv_layer2 (Conv2D)        (None, 49, 21, 4)         148       \n",
      "                                                                 \n",
      " max_pooling2 (MaxPooling2D  (None, 24, 10, 4)         0         \n",
      " )                                                               \n",
      "                                                                 \n",
      " flatten_1 (Flatten)         (None, 960)               0         \n",
      "                                                                 \n",
      " dropout_1 (Dropout)         (None, 960)               0         \n",
      "                                                                 \n",
      " hidden_layer1 (Dense)       (None, 40)                38440     \n",
      "                                                                 \n",
      " output (Dense)              (None, 1)                 41        \n",
      "                                                                 \n",
      "=================================================================\n",
      "Total params: 38669 (151.05 KB)\n",
      "Trainable params: 38669 (151.05 KB)\n",
      "Non-trainable params: 0 (0.00 Byte)\n",
      "_________________________________________________________________\n"
     ]
    }
   ],
   "source": [
    "model = Sequential([\n",
    "    Conv2D(4, 3, \n",
    "           padding='same',\n",
    "           activation='relu',\n",
    "           kernel_regularizer=regularizers.l2(0.001),\n",
    "           name='conv_layer1',\n",
    "           input_shape=(IMG_WIDTH, IMG_HEIGHT, 1)),\n",
    "    MaxPooling2D(name='max_pooling1', pool_size=(2,2)),\n",
    "    Conv2D(4, 3, \n",
    "           padding='same',\n",
    "           activation='relu',\n",
    "           kernel_regularizer=regularizers.l2(0.001),\n",
    "           name='conv_layer2'),\n",
    "    MaxPooling2D(name='max_pooling2', pool_size=(2,2)),\n",
    "    Flatten(),\n",
    "    Dropout(0.2),\n",
    "    Dense(\n",
    "        40,\n",
    "        activation='relu',\n",
    "        kernel_regularizer=regularizers.l2(0.001),\n",
    "        name='hidden_layer1'\n",
    "    ),\n",
    "    Dense(\n",
    "        1, \n",
    "        activation='sigmoid',\n",
    "        kernel_regularizer=regularizers.l2(0.001),\n",
    "        name='output'\n",
    "    )\n",
    "])\n",
    "model.summary()\n"
   ]
  },
  {
   "cell_type": "code",
   "execution_count": 49,
   "metadata": {},
   "outputs": [],
   "source": [
    "epochs=5\n",
    "\n",
    "model.compile(optimizer='adam',\n",
    "              loss=tf.keras.losses.BinaryCrossentropy(),\n",
    "              metrics=['accuracy'])\n"
   ]
  },
  {
   "cell_type": "code",
   "execution_count": 50,
   "metadata": {},
   "outputs": [],
   "source": [
    "log_dir = \"logs/fit/\" + datetime.datetime.now().strftime(\"%Y%m%d-%H%M%S\")\n",
    "tensorboard_callback = tf.keras.callbacks.TensorBoard(log_dir=log_dir, histogram_freq=1)"
   ]
  },
  {
   "cell_type": "code",
   "execution_count": 51,
   "metadata": {},
   "outputs": [
    {
     "name": "stdout",
     "output_type": "stream",
     "text": [
      "Epoch 1/5\n"
     ]
    },
    {
     "name": "stdout",
     "output_type": "stream",
     "text": [
      "11/11 [==============================] - ETA: 0s - loss: 0.6901 - accuracy: 0.6534 INFO:tensorflow:Assets written to: checkpoint.model/assets\n"
     ]
    },
    {
     "name": "stderr",
     "output_type": "stream",
     "text": [
      "INFO:tensorflow:Assets written to: checkpoint.model/assets\n"
     ]
    },
    {
     "name": "stdout",
     "output_type": "stream",
     "text": [
      "11/11 [==============================] - 3s 127ms/step - loss: 0.6901 - accuracy: 0.6534 - val_loss: 0.4692 - val_accuracy: 0.9545\n",
      "Epoch 2/5\n",
      "11/11 [==============================] - 0s 14ms/step - loss: 0.4379 - accuracy: 0.8807 - val_loss: 0.2814 - val_accuracy: 0.9091\n",
      "Epoch 3/5\n",
      "11/11 [==============================] - ETA: 0s - loss: 0.3574 - accuracy: 0.8864INFO:tensorflow:Assets written to: checkpoint.model/assets\n"
     ]
    },
    {
     "name": "stderr",
     "output_type": "stream",
     "text": [
      "INFO:tensorflow:Assets written to: checkpoint.model/assets\n"
     ]
    },
    {
     "name": "stdout",
     "output_type": "stream",
     "text": [
      "11/11 [==============================] - 1s 99ms/step - loss: 0.3574 - accuracy: 0.8864 - val_loss: 0.1689 - val_accuracy: 1.0000\n",
      "Epoch 4/5\n",
      "11/11 [==============================] - 0s 15ms/step - loss: 0.2652 - accuracy: 0.9261 - val_loss: 0.1619 - val_accuracy: 0.9545\n",
      "Epoch 5/5\n",
      "11/11 [==============================] - 0s 13ms/step - loss: 0.1568 - accuracy: 0.9489 - val_loss: 0.1117 - val_accuracy: 1.0000\n"
     ]
    }
   ],
   "source": [
    "model_checkpoint_callback = tf.keras.callbacks.ModelCheckpoint(\n",
    "    filepath=\"checkpoint.model\",\n",
    "    monitor='val_accuracy',\n",
    "    mode='max',\n",
    "    save_best_only=True)\n",
    "\n",
    "history = model.fit(\n",
    "    train_dataset,\n",
    "    steps_per_epoch=len(X_train) // batch_size,\n",
    "    epochs=epochs,\n",
    "    validation_data=validation_dataset,\n",
    "    validation_steps=1,\n",
    "    callbacks=[tensorboard_callback, model_checkpoint_callback]\n",
    ")"
   ]
  },
  {
   "cell_type": "code",
   "execution_count": 52,
   "metadata": {},
   "outputs": [
    {
     "name": "stdout",
     "output_type": "stream",
     "text": [
      "INFO:tensorflow:Assets written to: trained.model/assets\n"
     ]
    },
    {
     "name": "stderr",
     "output_type": "stream",
     "text": [
      "INFO:tensorflow:Assets written to: trained.model/assets\n"
     ]
    }
   ],
   "source": [
    "model.save(\"trained.model\")"
   ]
  },
  {
   "cell_type": "code",
   "execution_count": 53,
   "metadata": {},
   "outputs": [
    {
     "data": {
      "text/plain": [
       "dict_keys(['loss', 'accuracy', 'val_loss', 'val_accuracy'])"
      ]
     },
     "execution_count": 53,
     "metadata": {},
     "output_type": "execute_result"
    }
   ],
   "source": [
    "history.history.keys()"
   ]
  },
  {
   "cell_type": "code",
   "execution_count": 54,
   "metadata": {},
   "outputs": [
    {
     "data": {
      "image/png": "[encoded data removed]",
      "text/plain": [
       "<Figure size 640x480 with 1 Axes>"
      ]
     },
     "metadata": {},
     "output_type": "display_data"
    }
   ],
   "source": [
    "plt.title('Loss')\n",
    "plt.plot(history.history['loss'], 'r')\n",
    "plt.plot(history.history['val_loss'], 'b')\n",
    "plt.show()"
   ]
  },
  {
   "cell_type": "code",
   "execution_count": 55,
   "metadata": {},
   "outputs": [
    {
     "data": {
      "image/png": "[encoded data removed]",
      "text/plain": [
       "<Figure size 640x480 with 1 Axes>"
      ]
     },
     "metadata": {},
     "output_type": "display_data"
    }
   ],
   "source": [
    "plt.title('accuracy')\n",
    "plt.plot(history.history['accuracy'], 'r')\n",
    "plt.plot(history.history['val_accuracy'], 'b')\n",
    "plt.show()"
   ]
  },
  {
   "cell_type": "code",
   "execution_count": 56,
   "metadata": {},
   "outputs": [],
   "source": [
    "model2 =  keras.models.load_model(\"checkpoint.model\")"
   ]
  },
  {
   "cell_type": "code",
   "execution_count": 57,
   "metadata": {},
   "outputs": [
    {
     "name": "stdout",
     "output_type": "stream",
     "text": [
      "1/1 [==============================] - 0s 144ms/step - loss: 0.3412 - accuracy: 0.9200\n"
     ]
    }
   ],
   "source": [
    "results = model2.evaluate(X_test, tf.cast(Y_test, tf.float32), batch_size=64)"
   ]
  },
  {
   "cell_type": "code",
   "execution_count": 58,
   "metadata": {},
   "outputs": [
    {
     "data": {
      "text/plain": [
       "<tf.Tensor: shape=(2, 2), dtype=int32, numpy=\n",
       "array([[ 8,  2],\n",
       "       [ 0, 15]], dtype=int32)>"
      ]
     },
     "execution_count": 58,
     "metadata": {},
     "output_type": "execute_result"
    }
   ],
   "source": [
    "predictions = model2.predict_on_batch(X_test)\n",
    "decision = [1 if p > 0.5 else 0 for p in predictions]\n",
    "tf.math.confusion_matrix(Y_test, decision)"
   ]
  },
  {
   "cell_type": "code",
   "execution_count": 59,
   "metadata": {},
   "outputs": [
    {
     "data": {
      "text/plain": [
       "<tf.Tensor: shape=(2, 2), dtype=int32, numpy=\n",
       "array([[ 9,  1],\n",
       "       [ 0, 15]], dtype=int32)>"
      ]
     },
     "execution_count": 59,
     "metadata": {},
     "output_type": "execute_result"
    }
   ],
   "source": [
    "predictions = model2.predict_on_batch(X_test)\n",
    "decision = [1 if p > 0.9 else 0 for p in predictions]\n",
    "tf.math.confusion_matrix(Y_test, decision)"
   ]
  },
  {
   "cell_type": "markdown",
   "metadata": {},
   "source": [
    "# Fully train the model"
   ]
  },
  {
   "cell_type": "code",
   "execution_count": 60,
   "metadata": {},
   "outputs": [],
   "source": [
    "complete_train_X = np.concatenate((X_train, X_validate, X_test))\n",
    "complete_train_Y = np.concatenate((Y_train, Y_validate, Y_test))\n",
    "\n",
    "complete_train_dataset = Dataset.from_tensor_slices((complete_train_X, complete_train_Y)).batch(batch_size).repeat(count=-1).shuffle(300000)"
   ]
  },
  {
   "cell_type": "code",
   "execution_count": 61,
   "metadata": {},
   "outputs": [
    {
     "data": {
      "text/plain": [
       "<_ShuffleDataset element_spec=(TensorSpec(shape=(None, 99, 43, 1), dtype=tf.float32, name=None), TensorSpec(shape=(None,), dtype=tf.int64, name=None))>"
      ]
     },
     "execution_count": 61,
     "metadata": {},
     "output_type": "execute_result"
    }
   ],
   "source": [
    "complete_train_dataset"
   ]
  },
  {
   "cell_type": "code",
   "execution_count": 62,
   "metadata": {},
   "outputs": [
    {
     "data": {
      "text/plain": [
       "(14,)"
      ]
     },
     "execution_count": 62,
     "metadata": {},
     "output_type": "execute_result"
    }
   ],
   "source": [
    "len(complete_train_X) // batch_size,"
   ]
  },
  {
   "cell_type": "code",
   "execution_count": 63,
   "metadata": {},
   "outputs": [],
   "source": [
    "# history = model2.fit(\n",
    "#     complete_train_dataset,\n",
    "#     steps_per_epoch=len(complete_train_X) // batch_size,\n",
    "#     epochs=5\n",
    "# )"
   ]
  },
  {
   "cell_type": "code",
   "execution_count": 64,
   "metadata": {},
   "outputs": [],
   "source": [
    "# predictions = model2.predict_on_batch(complete_train_X)\n",
    "# decision = [1 if p > 0.5 else 0 for p in predictions]\n",
    "# tf.math.confusion_matrix(complete_train_Y, decision)"
   ]
  },
  {
   "cell_type": "code",
   "execution_count": 65,
   "metadata": {},
   "outputs": [],
   "source": [
    "# decision = [1 if p > 0.95 else 0 for p in predictions]\n",
    "# tf.math.confusion_matrix(complete_train_Y, decision)"
   ]
  },
  {
   "cell_type": "code",
   "execution_count": 66,
   "metadata": {},
   "outputs": [
    {
     "name": "stdout",
     "output_type": "stream",
     "text": [
      "INFO:tensorflow:Assets written to: fully_trained.model/assets\n"
     ]
    },
    {
     "name": "stderr",
     "output_type": "stream",
     "text": [
      "INFO:tensorflow:Assets written to: fully_trained.model/assets\n"
     ]
    }
   ],
   "source": [
    "model2.save(\"fully_trained.model\")"
   ]
  }
 ],
 "metadata": {
  "kernelspec": {
   "display_name": "venv",
   "language": "python",
   "name": "python3"
  },
  "language_info": {
   "codemirror_mode": {
    "name": "ipython",
    "version": 3
   },
   "file_extension": ".py",
   "mimetype": "text/x-python",
   "name": "python",
   "nbconvert_exporter": "python",
   "pygments_lexer": "ipython3",
   "version": "3.11.2"
  }
 },
 "nbformat": 4,
 "nbformat_minor": 2
}
